{
  "cells": [
    {
      "cell_type": "markdown",
      "id": "bc9520d2",
      "metadata": {
        "id": "bc9520d2"
      },
      "source": [
        "# Лабораторная работа №4\n",
        "\n",
        "ФИО: **Павленко Алексей**\n",
        "\n",
        "Группа: **Бивт-21-3**\n",
        "\n",
        "Отправлять можно следующими способами:\n",
        "1. Запушить этот ноутбук в GitHub в репозиторий, где у вас лежат ноутбуки с лабами\n",
        "\n",
        "Deadlines:\n",
        "- Занятие №8 в семестре (Занятие №4 очное)\n",
        "\n",
        "Что необходимо сделать:  \n",
        "- Обучить различные модели глубокого обучения на имеющихся данных  \n",
        "\n",
        "---\n",
        "## Читайте задание внимательно\n",
        "\n",
        "Исходные данные:\n",
        "1. В [табличке](https://docs.google.com/spreadsheets/d/11600OkqdRzxc-xZmFTuBs099VeAqU_GlE0Bx6bBlIRE/edit?usp=sharing) необходимо узнать название своего датасета\n",
        "2. Скачать нужны вам данные можно в [Google Drive](https://drive.google.com/drive/folders/1Phm-Fq1GL-VX7NS-DCEMRh_Fo1wU7DQ9?usp=sharing)\n",
        "  \n",
        "---\n",
        "Теперь по пунктам, что я от вас жду:  \n",
        "1. Загрузить необходимые данные к себе и считать (read) их в переменную.\n",
        "2. Понять, у вас задача классификации (бинарной или многоклассовой) или регрессии.\n",
        "3. Сделать предобработку данных:  \n",
        "     1. Разделить выборку на тренировочную (train) и тестовую (test). _Обратите внимание, что обучать скейлеры и определять, какими значениями вы будете заполнять пропуски, вы будете на train выборке, а применять и на train, и на test_.\n",
        "     2. Проверить пропуски в данных. Если они есть, заполнить одной из стратегий, предложенных в ноутбуке для семинара №3. P.S. Для численных и категориальных переменных будут разные стратегии.\n",
        "     3. Отнормировать численные переменные (`StandardScaler`, `MinMaxScaler`).\n",
        "     4. Закодировать категориальные признаки по одной из стратегий.\n",
        "4. Оформить данные в виде класса `Dataset` из библиотеки `torch` (как мы это делали на семинаре), а затем засунуть в `Dataloader` (тоже делали на семинаре).\n",
        "5. Обучить на тренировочном множестве:\n",
        "     1. Очень простую однослойную нейросеть с оптимизатором `SGD` ([link](https://pytorch.org/docs/stable/optim.html)).\n",
        "     2. Нейросеть посложнее (с 1 скрытым слоем) с оптимизатором `Adam` ([link](https://pytorch.org/docs/stable/optim.html)).\n",
        "     3. Нейросеть еще сложнее (с 3+ скрытыми слоями) с оптимизатором `Adam` ([link](https://pytorch.org/docs/stable/optim.html)).\n",
        "6. Посчитайте loss на train и test множествах, в зависимости от эпохи обучения. Провизуализируйте это с помощью библиотеки `matplotlib` (выйдет так называемая **learning curve**, кривая обучения модели).\n",
        "6. Посчитайте метрики на train и test множествах:\n",
        "     1. Для задачи классификации -- Accuracy\n",
        "     2. Для задачи регрессии -- MAE\n",
        "7. Сравните метрики относительно train/test, так и относительно разных моделей. Ответьте на следующие вопросы:\n",
        "     1. Какая модель справилась лучше с поставленной задачей?\n",
        "     2. Имеет ли место переобучение?\n",
        "     3. Имеет ли место недообучение?\n",
        "     4. Как можно улучшить метрики моделей?\n",
        "\n",
        "---\n",
        "P.S.  \n",
        "Просьба -- делать каждое задание в отдельных ячейках и с отдельными заголовками (как пункт 1 и 2 в этом ноутбуке) типа  \n",
        "- Заголовок\n",
        "- Ячейки с кодом\n",
        "- Другой заголовок\n",
        "- Другие ячейки с кодом\n",
        "\n",
        "P.S.S.  \n",
        "Если вам повезло с многоклассовой классификацией, у вас не будет проблем, просто нужно будет поставить необходимое количество нейронов на выходе вашей нейросети."
      ]
    },
    {
      "cell_type": "markdown",
      "id": "28b51062",
      "metadata": {
        "id": "28b51062"
      },
      "source": [
        "##**Пункт 1 (Импорт библиотек. Пример импорта данных)**"
      ]
    },
    {
      "cell_type": "code",
      "execution_count": 4,
      "id": "406597a7",
      "metadata": {
        "colab": {
          "base_uri": "https://localhost:8080/"
        },
        "id": "406597a7",
        "outputId": "4ee5e68b-dd2f-44dc-a4b5-d8ff3bfffbed"
      },
      "outputs": [
        {
          "output_type": "stream",
          "name": "stdout",
          "text": [
            "   Applicant_ID Applicant_Gender  Owned_Car  Owned_Realty  Total_Children  \\\n",
            "0       5008806          M                1             1               0   \n",
            "1       5008808          F                0             1               0   \n",
            "2       5008809          F                0             1               0   \n",
            "3       5008810          F                0             1               0   \n",
            "4       5008811          F                0             1               0   \n",
            "\n",
            "   Total_Income                                        Income_Type  \\\n",
            "0        112500  Working                                       ...   \n",
            "1        270000  Commercial associate                          ...   \n",
            "2        270000  Commercial associate                          ...   \n",
            "3        270000  Commercial associate                          ...   \n",
            "4        270000  Commercial associate                          ...   \n",
            "\n",
            "                                      Education_Type  \\\n",
            "0  Secondary / secondary special                 ...   \n",
            "1  Secondary / secondary special                 ...   \n",
            "2  Secondary / secondary special                 ...   \n",
            "3  Secondary / secondary special                 ...   \n",
            "4  Secondary / secondary special                 ...   \n",
            "\n",
            "                                       Family_Status  \\\n",
            "0  Married                                       ...   \n",
            "1  Single / not married                          ...   \n",
            "2  Single / not married                          ...   \n",
            "3  Single / not married                          ...   \n",
            "4  Single / not married                          ...   \n",
            "\n",
            "                                        Housing_Type  ...  Owned_Work_Phone  \\\n",
            "0  House / apartment                             ...  ...                 0   \n",
            "1  House / apartment                             ...  ...                 0   \n",
            "2  House / apartment                             ...  ...                 0   \n",
            "3  House / apartment                             ...  ...                 0   \n",
            "4  House / apartment                             ...  ...                 0   \n",
            "\n",
            "   Owned_Phone  Owned_Email  \\\n",
            "0            0            0   \n",
            "1            1            1   \n",
            "2            1            1   \n",
            "3            1            1   \n",
            "4            1            1   \n",
            "\n",
            "                                           Job_Title Total_Family_Members  \\\n",
            "0  Security staff                                ...                    2   \n",
            "1  Sales staff                                   ...                    1   \n",
            "2  Sales staff                                   ...                    1   \n",
            "3  Sales staff                                   ...                    1   \n",
            "4  Sales staff                                   ...                    1   \n",
            "\n",
            "   Applicant_Age  Years_of_Working  Total_Bad_Debt  Total_Good_Debt  Status  \n",
            "0             59                 4               0               30       1  \n",
            "1             53                 9               0                5       1  \n",
            "2             53                 9               0                5       1  \n",
            "3             53                 9               0               27       1  \n",
            "4             53                 9               0               39       1  \n",
            "\n",
            "[5 rows x 21 columns]\n"
          ]
        }
      ],
      "source": [
        "# data = pd.read_csv(path_to_dataset, sep='\\t')  # если нужно, можно поменять разделитель\n",
        "#  numpy уже импортирован в colab\n",
        "import math\n",
        "import os\n",
        "import pandas as pd\n",
        "#from google.colab import files\n",
        "#uploaded = files.upload()\n",
        "import matplotlib.pyplot as plt\n",
        "from scipy import stats\n",
        "import seaborn as sns\n",
        "data = pd.read_csv('Application_Data.csv', sep=',')\n",
        "print(data.head())"
      ]
    },
    {
      "cell_type": "markdown",
      "id": "0d119028",
      "metadata": {
        "id": "0d119028"
      },
      "source": [
        "##**Описание постановки задачи**"
      ]
    },
    {
      "cell_type": "markdown",
      "source": [
        "Цель: Целью данной лабораторной работы является изучение и применение основных методов предобработки данных, обучения моделей машинного обучения и оценки их производительности.\n",
        "\n",
        "Тип задачи: Данная задача бинарной классификации включает предсказание результатов, которые имеют два возможных исхода. Примером служит определение того, будет ли кредитная карта одобрена или нет, основываясь на финансовой истории и других данных заявителей."
      ],
      "metadata": {
        "id": "vCdijsnweeCi"
      },
      "id": "vCdijsnweeCi"
    },
    {
      "cell_type": "markdown",
      "id": "34931f43",
      "metadata": {
        "id": "34931f43"
      },
      "source": [
        "##**Пункт 3 (Делаем предобработку данных)**"
      ]
    },
    {
      "cell_type": "code",
      "execution_count": 5,
      "id": "67a611d0",
      "metadata": {
        "colab": {
          "base_uri": "https://localhost:8080/"
        },
        "id": "67a611d0",
        "outputId": "339b6508-32ff-4b09-e6b6-9a8f5b5ef799"
      },
      "outputs": [
        {
          "output_type": "stream",
          "name": "stdout",
          "text": [
            "Applicant_ID            0\n",
            "Applicant_Gender        0\n",
            "Owned_Car               0\n",
            "Owned_Realty            0\n",
            "Total_Children          0\n",
            "Total_Income            0\n",
            "Income_Type             0\n",
            "Education_Type          0\n",
            "Family_Status           0\n",
            "Housing_Type            0\n",
            "Owned_Mobile_Phone      0\n",
            "Owned_Work_Phone        0\n",
            "Owned_Phone             0\n",
            "Owned_Email             0\n",
            "Job_Title               0\n",
            "Total_Family_Members    0\n",
            "Applicant_Age           0\n",
            "Years_of_Working        0\n",
            "Total_Bad_Debt          0\n",
            "Total_Good_Debt         0\n",
            "Status                  0\n",
            "dtype: int64\n",
            "Applicant_ID            0\n",
            "Applicant_Gender        0\n",
            "Owned_Car               0\n",
            "Owned_Realty            0\n",
            "Total_Children          0\n",
            "Total_Income            0\n",
            "Income_Type             0\n",
            "Education_Type          0\n",
            "Family_Status           0\n",
            "Housing_Type            0\n",
            "Owned_Mobile_Phone      0\n",
            "Owned_Work_Phone        0\n",
            "Owned_Phone             0\n",
            "Owned_Email             0\n",
            "Job_Title               0\n",
            "Total_Family_Members    0\n",
            "Applicant_Age           0\n",
            "Years_of_Working        0\n",
            "Total_Bad_Debt          0\n",
            "Total_Good_Debt         0\n",
            "Status                  0\n",
            "dtype: int64\n",
            "Нет пропусков данных\n"
          ]
        }
      ],
      "source": [
        "train = data[int(len(data)*0.8):]\n",
        "test = data[:int(len(data)*0.2)]\n",
        "# Проверка пропусков в данных\n",
        "print(train.isnull().sum())\n",
        "train_missing_values = train.isnull().sum()\n",
        "print(train_missing_values)\n",
        "\n",
        "# Проверяем, есть ли хоть один пропуск в данных\n",
        "if train_missing_values.sum() == 0:\n",
        "    print(\"Нет пропусков данных\")\n",
        "else:\n",
        "    print(\"Есть пропуски данных\")"
      ]
    },
    {
      "cell_type": "markdown",
      "source": [
        "##**Пункт 3 (Предобработка данных)**"
      ],
      "metadata": {
        "id": "rZERLZGLcLdK"
      },
      "id": "rZERLZGLcLdK"
    },
    {
      "cell_type": "code",
      "source": [
        "from sklearn.compose import ColumnTransformer\n",
        "from sklearn.preprocessing import StandardScaler, OneHotEncoder\n",
        "# Определение численных и категориальных столбцов\n",
        "num_cols = ['Owned_Car', 'Owned_Realty','Total_Children','Total_Income','Owned_Mobile_Phone','Owned_Work_Phone','Owned_Phone','Owned_Email','Total_Family_Members','Applicant_Age','Years_of_Working','Total_Bad_Debt','Total_Good_Debt','Status']\n",
        "cat_cols = ['Applicant_Gender', 'Income_Type', 'Education_Type', 'Family_Status', 'Housing_Type','Job_Title']\n",
        "\n",
        "# Создание преобразователя колонок\n",
        "preprocessor = ColumnTransformer(transformers=[('cat', OneHotEncoder(handle_unknown='ignore'), cat_cols),('num', StandardScaler(), num_cols)]) #Student ignore\n",
        "\n",
        "# Применение преобразований к тренировочным и тестовым данным\n",
        "train_preprocessed = preprocessor.fit_transform(train)\n",
        "test_preprocessed = preprocessor.transform(test)\n",
        "\n",
        "print(\"Данные до преобразования:\")\n",
        "print(train.head())\n",
        "\n",
        "# Преобразование в DataFrame\n",
        "train_preprocessed_df = pd.DataFrame(train_preprocessed)\n",
        "test_preprocessed_df = pd.DataFrame(test_preprocessed)\n",
        "\n",
        "# Вывод преобразованных данных\n",
        "print(\"\\nРазделение по группам:\")\n",
        "print(preprocessor.get_feature_names_out(), \"\\n\\n\")\n",
        "print(\"\\nПреобразованные данные:\")\n",
        "print(train_preprocessed_df.head())\n"
      ],
      "metadata": {
        "colab": {
          "base_uri": "https://localhost:8080/"
        },
        "id": "CCoGYauCcb1x",
        "outputId": "0052b86b-6b26-4e0a-bbcc-1ea82a71a37e"
      },
      "id": "CCoGYauCcb1x",
      "execution_count": 6,
      "outputs": [
        {
          "output_type": "stream",
          "name": "stdout",
          "text": [
            "Данные до преобразования:\n",
            "       Applicant_ID Applicant_Gender  Owned_Car  Owned_Realty  Total_Children  \\\n",
            "20102       5117824          M                1             0               0   \n",
            "20103       5117832          M                1             0               0   \n",
            "20104       5117834          M                1             0               0   \n",
            "20105       5117835          M                1             0               0   \n",
            "20106       5117836          M                1             0               0   \n",
            "\n",
            "       Total_Income                                        Income_Type  \\\n",
            "20102        274500  Commercial associate                          ...   \n",
            "20103        157500  Working                                       ...   \n",
            "20104        157500  Working                                       ...   \n",
            "20105        157500  Working                                       ...   \n",
            "20106        157500  Working                                       ...   \n",
            "\n",
            "                                          Education_Type  \\\n",
            "20102  Secondary / secondary special                 ...   \n",
            "20103  Secondary / secondary special                 ...   \n",
            "20104  Secondary / secondary special                 ...   \n",
            "20105  Secondary / secondary special                 ...   \n",
            "20106  Secondary / secondary special                 ...   \n",
            "\n",
            "                                           Family_Status  \\\n",
            "20102  Married                                       ...   \n",
            "20103  Married                                       ...   \n",
            "20104  Married                                       ...   \n",
            "20105  Married                                       ...   \n",
            "20106  Married                                       ...   \n",
            "\n",
            "                                            Housing_Type  ...  \\\n",
            "20102  House / apartment                             ...  ...   \n",
            "20103  House / apartment                             ...  ...   \n",
            "20104  House / apartment                             ...  ...   \n",
            "20105  House / apartment                             ...  ...   \n",
            "20106  House / apartment                             ...  ...   \n",
            "\n",
            "       Owned_Work_Phone  Owned_Phone  Owned_Email  \\\n",
            "20102                 0            0            0   \n",
            "20103                 0            0            0   \n",
            "20104                 0            0            0   \n",
            "20105                 0            0            0   \n",
            "20106                 0            0            0   \n",
            "\n",
            "                                               Job_Title Total_Family_Members  \\\n",
            "20102  Laborers                                      ...                    2   \n",
            "20103  Managers                                      ...                    2   \n",
            "20104  Managers                                      ...                    2   \n",
            "20105  Managers                                      ...                    2   \n",
            "20106  Managers                                      ...                    2   \n",
            "\n",
            "       Applicant_Age  Years_of_Working  Total_Bad_Debt  Total_Good_Debt  \\\n",
            "20102             48                10               0                9   \n",
            "20103             55                 6               0                9   \n",
            "20104             55                 6               0                9   \n",
            "20105             55                 6               0                9   \n",
            "20106             55                 6               0                9   \n",
            "\n",
            "       Status  \n",
            "20102       1  \n",
            "20103       1  \n",
            "20104       1  \n",
            "20105       1  \n",
            "20106       1  \n",
            "\n",
            "[5 rows x 21 columns]\n",
            "\n",
            "Разделение по группам:\n",
            "['cat__Applicant_Gender_F      ' 'cat__Applicant_Gender_M      '\n",
            " 'cat__Income_Type_Commercial associate                              '\n",
            " 'cat__Income_Type_Pensioner                                         '\n",
            " 'cat__Income_Type_State servant                                     '\n",
            " 'cat__Income_Type_Working                                           '\n",
            " 'cat__Education_Type_Higher education                                  '\n",
            " 'cat__Education_Type_Incomplete higher                                 '\n",
            " 'cat__Education_Type_Lower secondary                                   '\n",
            " 'cat__Education_Type_Secondary / secondary special                     '\n",
            " 'cat__Family_Status_Civil marriage                                    '\n",
            " 'cat__Family_Status_Married                                           '\n",
            " 'cat__Family_Status_Separated                                         '\n",
            " 'cat__Family_Status_Single / not married                              '\n",
            " 'cat__Family_Status_Widow                                             '\n",
            " 'cat__Housing_Type_Co-op apartment                                   '\n",
            " 'cat__Housing_Type_House / apartment                                 '\n",
            " 'cat__Housing_Type_Municipal apartment                               '\n",
            " 'cat__Housing_Type_Office apartment                                  '\n",
            " 'cat__Housing_Type_Rented apartment                                  '\n",
            " 'cat__Housing_Type_With parents                                      '\n",
            " 'cat__Job_Title_Accountants                                       '\n",
            " 'cat__Job_Title_Cleaning staff                                    '\n",
            " 'cat__Job_Title_Cooking staff                                     '\n",
            " 'cat__Job_Title_Core staff                                        '\n",
            " 'cat__Job_Title_Drivers                                           '\n",
            " 'cat__Job_Title_HR staff                                          '\n",
            " 'cat__Job_Title_High skill tech staff                             '\n",
            " 'cat__Job_Title_IT staff                                          '\n",
            " 'cat__Job_Title_Laborers                                          '\n",
            " 'cat__Job_Title_Low-skill Laborers                                '\n",
            " 'cat__Job_Title_Managers                                          '\n",
            " 'cat__Job_Title_Medicine staff                                    '\n",
            " 'cat__Job_Title_Private service staff                             '\n",
            " 'cat__Job_Title_Realty agents                                     '\n",
            " 'cat__Job_Title_Sales staff                                       '\n",
            " 'cat__Job_Title_Secretaries                                       '\n",
            " 'cat__Job_Title_Security staff                                    '\n",
            " 'cat__Job_Title_Waiters/barmen staff                              '\n",
            " 'num__Owned_Car' 'num__Owned_Realty' 'num__Total_Children'\n",
            " 'num__Total_Income' 'num__Owned_Mobile_Phone' 'num__Owned_Work_Phone'\n",
            " 'num__Owned_Phone' 'num__Owned_Email' 'num__Total_Family_Members'\n",
            " 'num__Applicant_Age' 'num__Years_of_Working' 'num__Total_Bad_Debt'\n",
            " 'num__Total_Good_Debt' 'num__Status'] \n",
            "\n",
            "\n",
            "\n",
            "Преобразованные данные:\n",
            "    0    1    2    3    4    5    6    7    8    9   ...   43        44  \\\n",
            "0  0.0  1.0  1.0  0.0  0.0  0.0  0.0  0.0  0.0  1.0  ...  0.0 -0.694376   \n",
            "1  0.0  1.0  0.0  0.0  0.0  1.0  0.0  0.0  0.0  1.0  ...  0.0 -0.694376   \n",
            "2  0.0  1.0  0.0  0.0  0.0  1.0  0.0  0.0  0.0  1.0  ...  0.0 -0.694376   \n",
            "3  0.0  1.0  0.0  0.0  0.0  1.0  0.0  0.0  0.0  1.0  ...  0.0 -0.694376   \n",
            "4  0.0  1.0  0.0  0.0  0.0  1.0  0.0  0.0  0.0  1.0  ...  0.0 -0.694376   \n",
            "\n",
            "         45      46        47        48        49        50        51  \\\n",
            "0 -0.667769 -0.2612 -0.332805  0.820441  0.423346 -0.207172 -0.844177   \n",
            "1 -0.667769 -0.2612 -0.332805  1.563458 -0.236162 -0.207172 -0.844177   \n",
            "2 -0.667769 -0.2612 -0.332805  1.563458 -0.236162 -0.207172 -0.844177   \n",
            "3 -0.667769 -0.2612 -0.332805  1.563458 -0.236162 -0.207172 -0.844177   \n",
            "4 -0.667769 -0.2612 -0.332805  1.563458 -0.236162 -0.207172 -0.844177   \n",
            "\n",
            "         52  \n",
            "0  0.084938  \n",
            "1  0.084938  \n",
            "2  0.084938  \n",
            "3  0.084938  \n",
            "4  0.084938  \n",
            "\n",
            "[5 rows x 53 columns]\n"
          ]
        }
      ]
    },
    {
      "cell_type": "markdown",
      "source": [
        "##**Пункт 4 (Обучение на тренировочном множестве данных)**"
      ],
      "metadata": {
        "id": "wCLyHKDZcMeQ"
      },
      "id": "wCLyHKDZcMeQ"
    },
    {
      "cell_type": "code",
      "source": [
        "import torch\n",
        "import numpy as np\n",
        "from torch.utils.data import Dataset, DataLoader\n",
        "\n",
        "# Определение класса Dataset\n",
        "class CustomDataset(Dataset):\n",
        "    def __init__(self, data, targets):\n",
        "        self.data = data\n",
        "        self.targets = targets\n",
        "\n",
        "    def __len__(self):\n",
        "        return len(self.data)\n",
        "\n",
        "    def __getitem__(self, idx):\n",
        "        return self.data[idx], self.targets[idx]\n",
        "\n",
        "y = train_preprocessed[:, len(num_cols) - 1] # только G3\n",
        "y_test = test_preprocessed[:, len(num_cols) - 1] # только G3\n",
        "x = np.delete(train_preprocessed, len(num_cols) - 1, axis=1) # все столбцы, кроме G3\n",
        "x_test = np.delete(test_preprocessed, len(num_cols) - 1, axis=1) # все столбцы, кроме G3\n",
        "\n",
        "# Создание экземпляров MyDataset\n",
        "train_dataset = CustomDataset(torch.from_numpy(x).float(), torch.from_numpy(y).float())\n",
        "test_dataset = CustomDataset(torch.from_numpy(x_test).float(), torch.from_numpy(y_test).float())\n",
        "\n",
        "# Загрузка данных в DataLoader\n",
        "train_dataloader = DataLoader(train_dataset, batch_size=7, shuffle=True)\n",
        "test_dataloader = DataLoader(test_dataset, batch_size=7, shuffle=False)\n",
        "\n",
        "# Проверка работы DataLoader\n",
        "for data, target in train_dataloader:\n",
        "    print(\"Batch data:\", data)\n",
        "    print(\"Batch target:\", target)\n",
        "    break"
      ],
      "metadata": {
        "colab": {
          "base_uri": "https://localhost:8080/"
        },
        "id": "RloOdAfucbaz",
        "outputId": "925cc775-c8e0-4909-a78e-8a384ad34455"
      },
      "id": "RloOdAfucbaz",
      "execution_count": 7,
      "outputs": [
        {
          "output_type": "stream",
          "name": "stdout",
          "text": [
            "Batch data: tensor([[ 1.0000,  0.0000,  1.0000,  0.0000,  0.0000,  0.0000,  1.0000,  0.0000,\n",
            "          0.0000,  0.0000,  0.0000,  1.0000,  0.0000,  0.0000,  0.0000,  1.0000,\n",
            "          0.0000,  0.0000,  0.0000,  0.0000,  1.0000,  0.0000,  0.0000,  0.0000,\n",
            "          0.0000,  0.0000,  0.0000,  0.0000,  0.0000,  0.0000,  0.0000,  0.0000,\n",
            "          0.0000,  0.0000,  0.0000,  0.0000,  0.0000,  0.0000,  1.2219,  0.8472,\n",
            "         -0.6863,  2.2385,  0.0000, -0.6944, -0.6678, -0.2612, -0.3328, -1.3025,\n",
            "          0.0936,  0.2915, -0.0820,  0.0849],\n",
            "        [ 1.0000,  0.0000,  0.0000,  0.0000,  0.0000,  1.0000,  0.0000,  0.0000,\n",
            "          0.0000,  1.0000,  0.0000,  1.0000,  0.0000,  0.0000,  0.0000,  1.0000,\n",
            "          0.0000,  0.0000,  0.0000,  0.0000,  0.0000,  0.0000,  1.0000,  0.0000,\n",
            "          0.0000,  0.0000,  0.0000,  0.0000,  0.0000,  0.0000,  0.0000,  0.0000,\n",
            "          0.0000,  0.0000,  0.0000,  0.0000,  0.0000,  0.0000, -0.8184,  0.8472,\n",
            "         -0.6863, -0.1307,  0.0000, -0.6944, -0.6678, -0.2612, -0.3328,  0.9266,\n",
            "         -0.0713, -0.2072, -1.0520,  0.0849],\n",
            "        [ 0.0000,  1.0000,  0.0000,  0.0000,  0.0000,  1.0000,  1.0000,  0.0000,\n",
            "          0.0000,  0.0000,  0.0000,  1.0000,  0.0000,  0.0000,  0.0000,  1.0000,\n",
            "          0.0000,  0.0000,  0.0000,  0.0000,  0.0000,  0.0000,  0.0000,  0.0000,\n",
            "          0.0000,  0.0000,  0.0000,  0.0000,  0.0000,  0.0000,  1.0000,  0.0000,\n",
            "          0.0000,  0.0000,  0.0000,  0.0000,  0.0000,  0.0000,  1.2219,  0.8472,\n",
            "          0.5884,  1.4487,  0.0000, -0.6944, -0.6678, -0.2612,  0.7285,  0.5020,\n",
            "         -0.7308, -0.2072, -0.4977,  0.0849],\n",
            "        [ 0.0000,  1.0000,  0.0000,  0.0000,  0.0000,  1.0000,  0.0000,  0.0000,\n",
            "          0.0000,  1.0000,  1.0000,  0.0000,  0.0000,  0.0000,  0.0000,  1.0000,\n",
            "          0.0000,  0.0000,  0.0000,  0.0000,  0.0000,  0.0000,  0.0000,  1.0000,\n",
            "          0.0000,  0.0000,  0.0000,  0.0000,  0.0000,  0.0000,  0.0000,  0.0000,\n",
            "          0.0000,  0.0000,  0.0000,  0.0000,  0.0000,  0.0000,  1.2219, -1.1804,\n",
            "         -0.6863,  0.6590,  0.0000,  1.4401, -0.6678, -0.2612, -0.3328,  1.1389,\n",
            "         -0.8957, -0.2072,  2.1351,  0.0849],\n",
            "        [ 0.0000,  1.0000,  0.0000,  0.0000,  0.0000,  1.0000,  0.0000,  0.0000,\n",
            "          0.0000,  1.0000,  0.0000,  1.0000,  0.0000,  0.0000,  0.0000,  1.0000,\n",
            "          0.0000,  0.0000,  0.0000,  0.0000,  0.0000,  0.0000,  0.0000,  0.0000,\n",
            "          0.0000,  0.0000,  0.0000,  0.0000,  1.0000,  0.0000,  0.0000,  0.0000,\n",
            "          0.0000,  0.0000,  0.0000,  0.0000,  0.0000,  0.0000,  1.2219, -1.1804,\n",
            "         -0.6863,  0.0667,  0.0000,  1.4401,  1.4975, -0.2612, -0.3328,  1.3512,\n",
            "         -0.7308, -0.2072,  0.7494,  0.0849],\n",
            "        [ 1.0000,  0.0000,  1.0000,  0.0000,  0.0000,  0.0000,  0.0000,  0.0000,\n",
            "          0.0000,  1.0000,  0.0000,  1.0000,  0.0000,  0.0000,  0.0000,  0.0000,\n",
            "          1.0000,  0.0000,  0.0000,  0.0000,  0.0000,  0.0000,  1.0000,  0.0000,\n",
            "          0.0000,  0.0000,  0.0000,  0.0000,  0.0000,  0.0000,  0.0000,  0.0000,\n",
            "          0.0000,  0.0000,  0.0000,  0.0000,  0.0000,  0.0000, -0.8184, -1.1804,\n",
            "         -0.6863,  0.7775,  0.0000, -0.6944,  1.4975, -0.2612, -0.3328,  0.9266,\n",
            "          1.0829, -0.2072, -0.1513,  0.0849],\n",
            "        [ 0.0000,  1.0000,  0.0000,  0.0000,  0.0000,  1.0000,  0.0000,  0.0000,\n",
            "          0.0000,  1.0000,  0.0000,  0.0000,  0.0000,  0.0000,  0.0000,  1.0000,\n",
            "          0.0000,  0.0000,  0.0000,  0.0000,  0.0000,  0.0000,  0.0000,  0.0000,\n",
            "          0.0000,  0.0000,  0.0000,  0.0000,  1.0000,  0.0000,  0.0000,  0.0000,\n",
            "          0.0000,  0.0000,  0.0000,  0.0000,  0.0000,  0.0000, -0.8184, -1.1804,\n",
            "         -0.6863, -0.5256,  0.0000, -0.6944, -0.6678, -0.2612, -1.3941, -1.5148,\n",
            "         -0.8957, -0.2072, -1.3292,  0.0849]])\n",
            "Batch target: tensor([0., 0., 0., 0., 0., 0., 1.])\n"
          ]
        }
      ]
    },
    {
      "cell_type": "markdown",
      "source": [
        "##**Пункт 5 (Подсчет метрик)**"
      ],
      "metadata": {
        "id": "edDk0UyVcK2G"
      },
      "id": "edDk0UyVcK2G"
    },
    {
      "cell_type": "markdown",
      "source": [
        "###**Пункт 5.1 (Определение моделей)**"
      ],
      "metadata": {
        "id": "fzM9E3Sm4jva"
      },
      "id": "fzM9E3Sm4jva"
    },
    {
      "cell_type": "code",
      "source": [
        "import torch.nn as nn\n",
        "import torch.optim as optim\n",
        "class SimpleNet(nn.Module):\n",
        "    def __init__(self, input_size, output_size):\n",
        "        super(SimpleNet, self).__init__()\n",
        "        self.linear = nn.Linear(input_size, output_size)\n",
        "\n",
        "    def forward(self, x):\n",
        "        out = self.linear(x)\n",
        "        return out\n",
        "class OneHiddenLayerNet(nn.Module):\n",
        "    def __init__(self, input_size, hidden_size, output_size):\n",
        "        super(OneHiddenLayerNet, self).__init__()\n",
        "        self.layer1 = nn.Linear(input_size, hidden_size)\n",
        "        self.relu = nn.ReLU()\n",
        "        self.layer2 = nn.Linear(hidden_size, output_size)\n",
        "\n",
        "    def forward(self, x):\n",
        "        out = self.layer1(x)\n",
        "        out = self.relu(out)\n",
        "        out = self.layer2(out)\n",
        "        return out\n",
        "class MultiLayerNet(nn.Module):\n",
        "    def __init__(self, input_size, hidden_size, output_size):\n",
        "        super(MultiLayerNet, self).__init__()\n",
        "        self.layer1 = nn.Linear(input_size, hidden_size)\n",
        "        self.layer2 = nn.Linear(hidden_size, hidden_size)\n",
        "        self.layer3 = nn.Linear(hidden_size, hidden_size)\n",
        "        self.layer4 = nn.Linear(hidden_size, output_size)\n",
        "        self.relu = nn.ReLU()\n",
        "\n",
        "    def forward(self, x):\n",
        "        out = self.layer1(x)\n",
        "        out = self.relu(out)\n",
        "        out = self.layer2(out)\n",
        "        out = self.relu(out)\n",
        "        out = self.layer3(out)\n",
        "        out = self.relu(out)\n",
        "        out = self.layer4(out)\n",
        "        return out"
      ],
      "metadata": {
        "id": "e6iIWJ6OgYRj"
      },
      "id": "e6iIWJ6OgYRj",
      "execution_count": 8,
      "outputs": []
    },
    {
      "cell_type": "markdown",
      "source": [
        "###**Пункт 5.2 (Определение тренировочного класса)**"
      ],
      "metadata": {
        "id": "ySLrbw5C4vFY"
      },
      "id": "ySLrbw5C4vFY"
    },
    {
      "cell_type": "code",
      "source": [
        "class ModelTrainer:\n",
        "    def __init__(self, model, useAdam, modelName):\n",
        "        self.model = model\n",
        "        self.criterion = nn.MSELoss()\n",
        "        self.modelName = modelName\n",
        "        self.optimizer = self._choose_optimizer(useAdam)\n",
        "\n",
        "    def _choose_optimizer(self, useAdam):\n",
        "        if useAdam:\n",
        "            return optim.Adam(self.model.parameters(), lr=0.01)\n",
        "        else:\n",
        "            return optim.SGD(self.model.parameters(), lr=0.01)\n",
        "\n",
        "    def _train_epoch(self, trainData):\n",
        "        self.model.train()\n",
        "        train_loss = 0\n",
        "        for inputs, targets in trainData:\n",
        "            inputs, targets = self._prepare_data(inputs, targets)\n",
        "            self.optimizer.zero_grad()\n",
        "            outputs = self.model(inputs)\n",
        "            loss = self.criterion(outputs, targets)\n",
        "            loss.backward()\n",
        "            self.optimizer.step()\n",
        "            train_loss += loss.item()\n",
        "        return train_loss / len(trainData)\n",
        "\n",
        "    def _prepare_data(self, inputs, targets):\n",
        "        inputs = inputs.float()\n",
        "        targets = targets.float().view(-1, 1)\n",
        "        return inputs, targets\n",
        "\n",
        "    def doTrain(self, epoches, trainData, testData):\n",
        "        train_losses, test_losses = [], []\n",
        "        for epoch in range(epoches):\n",
        "            train_losses.append(self._train_epoch(trainData))\n",
        "            test_losses.append(self.testModel(testData))\n",
        "            print(f\"Finished training of epoch - {epoch} with train loss - {train_losses[-1]} and test loss - {test_losses[-1]}\")\n",
        "        return train_losses, test_losses\n",
        "\n",
        "    def testModel(self, testData):\n",
        "        self.model.eval()\n",
        "        test_loss = 0\n",
        "        with torch.no_grad():\n",
        "            for inputs, targets in testData:\n",
        "                inputs, targets = self._prepare_data(inputs, targets)\n",
        "                outputs = self.model(inputs)\n",
        "                loss = self.criterion(outputs, targets)\n",
        "                test_loss += loss.item()\n",
        "        return test_loss / len(testData)\n",
        "    def getAccuracy(self, testData):\n",
        "        self.model.eval()\n",
        "        correct = 0\n",
        "        total = 0\n",
        "        with torch.no_grad():\n",
        "            for inputs, targets in testData:\n",
        "                inputs, targets = self._prepare_data(inputs, targets)\n",
        "                outputs = self.model(inputs)\n",
        "                # Предполагается, что 'outputs' и 'targets' являются тензорами PyTorch\n",
        "                predicted = outputs.round()  # Округление до 0 или 1\n",
        "                total += targets.size(0)\n",
        "                correct += (predicted == targets).sum().item()\n",
        "        accuracy = correct / total\n",
        "        return accuracy"
      ],
      "metadata": {
        "id": "ls4YzKjIgwbc"
      },
      "id": "ls4YzKjIgwbc",
      "execution_count": 9,
      "outputs": []
    },
    {
      "cell_type": "markdown",
      "source": [
        "###**Пункт 5.3 (Инициализация и обучение моделей)**"
      ],
      "metadata": {
        "id": "UW8nYWsk5LZK"
      },
      "id": "UW8nYWsk5LZK"
    },
    {
      "cell_type": "code",
      "source": [
        "# Пункт 5.3\n",
        "input_size = 52\n",
        "output_size = 7\n",
        "hidden_size = 100\n",
        "\n",
        "models =[\n",
        "    ModelTrainer(SimpleNet(input_size, output_size), False, \"Simple\"),\n",
        "    ModelTrainer(OneHiddenLayerNet(input_size, hidden_size, output_size), True, \"1 hidden layer\"),\n",
        "    ModelTrainer(MultiLayerNet(input_size, hidden_size, output_size), True, \"3 hidden layers\")\n",
        "]\n",
        "\n",
        "import matplotlib.pyplot as plt\n",
        "for model in models:\n",
        "    train_losses, test_losses = model.doTrain(50, train_dataloader, test_dataloader)\n",
        "    plt.plot(train_losses, label='Train Loss')\n",
        "    plt.plot(test_losses, label='Test Loss')\n",
        "    plt.title(\"Learning curve of model - \" + model.modelName)\n",
        "    plt.xlabel('Epoch')\n",
        "    plt.ylabel('Loss')\n",
        "    plt.legend()\n",
        "    plt.show()"
      ],
      "metadata": {
        "colab": {
          "base_uri": "https://localhost:8080/",
          "height": 1000
        },
        "id": "VPY-tpV4cbC8",
        "outputId": "fb17c6c4-5ba4-4ae9-b713-18df84fcd8e0"
      },
      "id": "VPY-tpV4cbC8",
      "execution_count": 10,
      "outputs": [
        {
          "output_type": "stream",
          "name": "stderr",
          "text": [
            "/usr/local/lib/python3.10/dist-packages/torch/nn/modules/loss.py:535: UserWarning: Using a target size (torch.Size([7, 1])) that is different to the input size (torch.Size([7, 7])). This will likely lead to incorrect results due to broadcasting. Please ensure they have the same size.\n",
            "  return F.mse_loss(input, target, reduction=self.reduction)\n",
            "/usr/local/lib/python3.10/dist-packages/torch/nn/modules/loss.py:535: UserWarning: Using a target size (torch.Size([6, 1])) that is different to the input size (torch.Size([6, 7])). This will likely lead to incorrect results due to broadcasting. Please ensure they have the same size.\n",
            "  return F.mse_loss(input, target, reduction=self.reduction)\n"
          ]
        },
        {
          "output_type": "stream",
          "name": "stdout",
          "text": [
            "Finished training of epoch - 0 with train loss - 0.13305536156240072 and test loss - 0.08252958925411723\n",
            "Finished training of epoch - 1 with train loss - 0.0745509420596141 and test loss - 0.06433966834820265\n",
            "Finished training of epoch - 2 with train loss - 0.05873362301598487 and test loss - 0.05473863807138643\n",
            "Finished training of epoch - 3 with train loss - 0.04922748586677876 and test loss - 0.049237883734382384\n",
            "Finished training of epoch - 4 with train loss - 0.04241256548991961 and test loss - 0.04332489437932923\n",
            "Finished training of epoch - 5 with train loss - 0.03706363211940419 and test loss - 0.03884154470113288\n",
            "Finished training of epoch - 6 with train loss - 0.03276504025389868 and test loss - 0.03531227714555924\n",
            "Finished training of epoch - 7 with train loss - 0.029132098889138553 and test loss - 0.03192446900368174\n",
            "Finished training of epoch - 8 with train loss - 0.026061842810981298 and test loss - 0.029022031825773013\n",
            "Finished training of epoch - 9 with train loss - 0.02341610729585896 and test loss - 0.026494078577127975\n",
            "Finished training of epoch - 10 with train loss - 0.021124391661714346 and test loss - 0.024635128153909072\n",
            "Finished training of epoch - 11 with train loss - 0.019186122812983167 and test loss - 0.022294584619155806\n",
            "Finished training of epoch - 12 with train loss - 0.017460323867628358 and test loss - 0.02056031698270809\n",
            "Finished training of epoch - 13 with train loss - 0.01596603206810243 and test loss - 0.0191393206201372\n",
            "Finished training of epoch - 14 with train loss - 0.014637053252569423 and test loss - 0.01779558829455755\n",
            "Finished training of epoch - 15 with train loss - 0.013466443460334798 and test loss - 0.016564178311999862\n",
            "Finished training of epoch - 16 with train loss - 0.012450945300301719 and test loss - 0.015429667836258907\n",
            "Finished training of epoch - 17 with train loss - 0.011540764928132252 and test loss - 0.014413126407796623\n",
            "Finished training of epoch - 18 with train loss - 0.010728137143323338 and test loss - 0.013588018467211173\n",
            "Finished training of epoch - 19 with train loss - 0.00999738384956683 and test loss - 0.012785405217468487\n",
            "Finished training of epoch - 20 with train loss - 0.009339273712232327 and test loss - 0.012133362711314663\n",
            "Finished training of epoch - 21 with train loss - 0.008749764878910831 and test loss - 0.011433423315933939\n",
            "Finished training of epoch - 22 with train loss - 0.008220554052157818 and test loss - 0.010923960121639953\n",
            "Finished training of epoch - 23 with train loss - 0.007747531241305531 and test loss - 0.01026071813828968\n",
            "Finished training of epoch - 24 with train loss - 0.007299384822099227 and test loss - 0.009782195414671728\n",
            "Finished training of epoch - 25 with train loss - 0.006905663013754154 and test loss - 0.00932357938037782\n",
            "Finished training of epoch - 26 with train loss - 0.006548993939179233 and test loss - 0.008826118412004454\n",
            "Finished training of epoch - 27 with train loss - 0.006203795941357263 and test loss - 0.008544727477657416\n",
            "Finished training of epoch - 28 with train loss - 0.00589873573000943 and test loss - 0.008083661194946584\n",
            "Finished training of epoch - 29 with train loss - 0.005608413857776733 and test loss - 0.007695246282527032\n",
            "Finished training of epoch - 30 with train loss - 0.00534898770745809 and test loss - 0.007403470945368654\n",
            "Finished training of epoch - 31 with train loss - 0.005105940114715794 and test loss - 0.007155988116736843\n",
            "Finished training of epoch - 32 with train loss - 0.004880043707282038 and test loss - 0.006806922195805732\n",
            "Finished training of epoch - 33 with train loss - 0.004665836763040178 and test loss - 0.006536162704616653\n",
            "Finished training of epoch - 34 with train loss - 0.004468725535225835 and test loss - 0.006275071193680393\n",
            "Finished training of epoch - 35 with train loss - 0.0042829892283209785 and test loss - 0.006065321479529485\n",
            "Finished training of epoch - 36 with train loss - 0.004102930312528212 and test loss - 0.005838040000611895\n",
            "Finished training of epoch - 37 with train loss - 0.003940979014703284 and test loss - 0.005609243239299648\n",
            "Finished training of epoch - 38 with train loss - 0.0037830304664214793 and test loss - 0.00540359363672829\n",
            "Finished training of epoch - 39 with train loss - 0.003640865698694864 and test loss - 0.005257634387797917\n",
            "Finished training of epoch - 40 with train loss - 0.0035005584538458532 and test loss - 0.0050338364749425496\n",
            "Finished training of epoch - 41 with train loss - 0.0033678225881024378 and test loss - 0.004852927409856078\n",
            "Finished training of epoch - 42 with train loss - 0.0032514090695374884 and test loss - 0.004720635227924433\n",
            "Finished training of epoch - 43 with train loss - 0.003126923099304619 and test loss - 0.004547469157563115\n",
            "Finished training of epoch - 44 with train loss - 0.003021645737031389 and test loss - 0.00439957276887146\n",
            "Finished training of epoch - 45 with train loss - 0.0029097798526442568 and test loss - 0.004230103227467068\n",
            "Finished training of epoch - 46 with train loss - 0.0028107273372264 and test loss - 0.004105562182635912\n",
            "Finished training of epoch - 47 with train loss - 0.0027133264982841464 and test loss - 0.003991413569333769\n",
            "Finished training of epoch - 48 with train loss - 0.002626444434993834 and test loss - 0.0038564627685715217\n",
            "Finished training of epoch - 49 with train loss - 0.0025379599793600304 and test loss - 0.003759711694259044\n"
          ]
        },
        {
          "output_type": "display_data",
          "data": {
            "text/plain": [
              "<Figure size 640x480 with 1 Axes>"
            ],
            "image/png": "[encoded data removed]"
          },
          "metadata": {}
        },
        {
          "output_type": "stream",
          "name": "stdout",
          "text": [
            "Finished training of epoch - 0 with train loss - 0.017408986831325114 and test loss - 0.002594835693048449\n",
            "Finished training of epoch - 1 with train loss - 0.0025999002459044874 and test loss - 0.0032755972466893385\n",
            "Finished training of epoch - 2 with train loss - 0.0022049739719116014 and test loss - 0.0006072493695701367\n",
            "Finished training of epoch - 3 with train loss - 0.0013914197165401185 and test loss - 0.00034363957036815187\n",
            "Finished training of epoch - 4 with train loss - 0.00096000208268305 and test loss - 0.0004574468973234273\n",
            "Finished training of epoch - 5 with train loss - 0.0015806559749917057 and test loss - 0.0033581586637174902\n",
            "Finished training of epoch - 6 with train loss - 0.001206749755130585 and test loss - 0.0004397766499639595\n",
            "Finished training of epoch - 7 with train loss - 0.0003530257030430039 and test loss - 0.0004633514159174428\n",
            "Finished training of epoch - 8 with train loss - 0.00020526249559224205 and test loss - 0.00010022024295123479\n",
            "Finished training of epoch - 9 with train loss - 0.00045503572254402717 and test loss - 0.0014144368136375176\n",
            "Finished training of epoch - 10 with train loss - 0.00023688442804603544 and test loss - 0.00016294168500721778\n",
            "Finished training of epoch - 11 with train loss - 0.0004558449782857567 and test loss - 0.00035295024945628136\n",
            "Finished training of epoch - 12 with train loss - 0.00029780285840908774 and test loss - 9.687618248506714e-05\n",
            "Finished training of epoch - 13 with train loss - 0.00019832622513088545 and test loss - 0.0005906138675702278\n",
            "Finished training of epoch - 14 with train loss - 0.0004701786457461246 and test loss - 0.00024368024543438427\n",
            "Finished training of epoch - 15 with train loss - 0.0003611391038558224 and test loss - 0.0011564162930090714\n",
            "Finished training of epoch - 16 with train loss - 0.00017785428169522568 and test loss - 0.00018763524314527796\n",
            "Finished training of epoch - 17 with train loss - 0.00023569673717793247 and test loss - 0.00010598448416285946\n",
            "Finished training of epoch - 18 with train loss - 0.00033178501991238746 and test loss - 6.773705216824118e-05\n",
            "Finished training of epoch - 19 with train loss - 0.00018388345068656974 and test loss - 0.0001409718363986751\n",
            "Finished training of epoch - 20 with train loss - 0.00022799963666676767 and test loss - 0.0003844448792505594\n",
            "Finished training of epoch - 21 with train loss - 0.0004315863975971006 and test loss - 6.935063341220003e-05\n",
            "Finished training of epoch - 22 with train loss - 0.00021128823169758233 and test loss - 8.58272468491746e-05\n",
            "Finished training of epoch - 23 with train loss - 0.00022639171164337983 and test loss - 0.0002327109652550586\n",
            "Finished training of epoch - 24 with train loss - 0.00045337645429063193 and test loss - 6.643445336836197e-05\n",
            "Finished training of epoch - 25 with train loss - 0.0002690229572211441 and test loss - 5.45056261396053e-05\n",
            "Finished training of epoch - 26 with train loss - 7.086948978543407e-05 and test loss - 0.00010019483313708228\n",
            "Finished training of epoch - 27 with train loss - 0.0005065741866305174 and test loss - 0.00021649829980334014\n",
            "Finished training of epoch - 28 with train loss - 0.00012271130389156904 and test loss - 3.8830896782901796e-05\n",
            "Finished training of epoch - 29 with train loss - 0.00034054471921966546 and test loss - 5.8390390611363365e-05\n",
            "Finished training of epoch - 30 with train loss - 0.00018427713045433372 and test loss - 0.00019143769985320152\n",
            "Finished training of epoch - 31 with train loss - 0.00018123340571899455 and test loss - 0.00022972929058555957\n",
            "Finished training of epoch - 32 with train loss - 0.0005553395774171483 and test loss - 0.00024938493733741115\n",
            "Finished training of epoch - 33 with train loss - 9.4781494452675e-05 and test loss - 2.9196582550239225e-05\n",
            "Finished training of epoch - 34 with train loss - 0.0001786863967936648 and test loss - 0.00011504435915437949\n",
            "Finished training of epoch - 35 with train loss - 0.0002231309218554463 and test loss - 0.0014953897486031924\n",
            "Finished training of epoch - 36 with train loss - 0.0005317838994227642 and test loss - 3.2879995705526746e-05\n",
            "Finished training of epoch - 37 with train loss - 3.6959837930573326e-05 and test loss - 5.437446609806515e-05\n",
            "Finished training of epoch - 38 with train loss - 0.0005938196672147684 and test loss - 9.644942525378066e-05\n",
            "Finished training of epoch - 39 with train loss - 0.00019426943590102597 and test loss - 3.5046620515360126e-05\n",
            "Finished training of epoch - 40 with train loss - 0.00023573602067580973 and test loss - 0.00030918731825769764\n",
            "Finished training of epoch - 41 with train loss - 0.00021558045898995145 and test loss - 3.695812882813924e-05\n",
            "Finished training of epoch - 42 with train loss - 0.00013928045862806555 and test loss - 0.0007311154224940324\n",
            "Finished training of epoch - 43 with train loss - 0.0003553012815273033 and test loss - 0.0020651277246368227\n",
            "Finished training of epoch - 44 with train loss - 0.0001762520542440428 and test loss - 3.7619752379489446e-05\n",
            "Finished training of epoch - 45 with train loss - 0.0009088672623683244 and test loss - 0.0001404550358218401\n",
            "Finished training of epoch - 46 with train loss - 0.0001011652400103873 and test loss - 3.135797728134348e-05\n",
            "Finished training of epoch - 47 with train loss - 8.052036224653307e-05 and test loss - 0.0007486607016256847\n",
            "Finished training of epoch - 48 with train loss - 0.000498206956960134 and test loss - 3.165300540563457e-05\n",
            "Finished training of epoch - 49 with train loss - 3.223125319390621e-05 and test loss - 0.00016692725628825904\n"
          ]
        },
        {
          "output_type": "display_data",
          "data": {
            "text/plain": [
              "<Figure size 640x480 with 1 Axes>"
            ],
            "image/png": "[encoded data removed]"
          },
          "metadata": {}
        },
        {
          "output_type": "stream",
          "name": "stdout",
          "text": [
            "Finished training of epoch - 0 with train loss - 0.021606313968876543 and test loss - 0.0015177825886711664\n",
            "Finished training of epoch - 1 with train loss - 0.0038499886091828295 and test loss - 0.0028059360477348423\n",
            "Finished training of epoch - 2 with train loss - 0.0037679824124014047 and test loss - 0.0013441951179169885\n",
            "Finished training of epoch - 3 with train loss - 0.02776913094036322 and test loss - 0.0033365959975231985\n",
            "Finished training of epoch - 4 with train loss - 0.0034273187104778336 and test loss - 0.00114600575073795\n",
            "Finished training of epoch - 5 with train loss - 0.0018371837406789065 and test loss - 0.0009205137315848816\n",
            "Finished training of epoch - 6 with train loss - 0.0019234576088272327 and test loss - 0.0009069575283376747\n",
            "Finished training of epoch - 7 with train loss - 0.007062337342050091 and test loss - 0.0020254937111857056\n",
            "Finished training of epoch - 8 with train loss - 0.005946914713229256 and test loss - 0.00211472744850934\n",
            "Finished training of epoch - 9 with train loss - 0.0023026336386096505 and test loss - 0.0011557708395366424\n",
            "Finished training of epoch - 10 with train loss - 0.001468030060674022 and test loss - 0.00035807098212646267\n",
            "Finished training of epoch - 11 with train loss - 0.00039802906798137925 and test loss - 0.00037478589714142493\n",
            "Finished training of epoch - 12 with train loss - 0.002166005808699197 and test loss - 0.00037681060488771397\n",
            "Finished training of epoch - 13 with train loss - 0.00014146641599788767 and test loss - 0.0001523323786649111\n",
            "Finished training of epoch - 14 with train loss - 3.2063957253937834e-05 and test loss - 0.00013330573037652064\n",
            "Finished training of epoch - 15 with train loss - 3.239392109381522e-05 and test loss - 0.0001442924068313701\n",
            "Finished training of epoch - 16 with train loss - 8.54123861121192e-05 and test loss - 0.0006676334835412217\n",
            "Finished training of epoch - 17 with train loss - 2.9311711606596292e-05 and test loss - 0.0005267220121504543\n",
            "Finished training of epoch - 18 with train loss - 3.094807533051713e-05 and test loss - 0.0004311950781793772\n",
            "Finished training of epoch - 19 with train loss - 0.001012685540175975 and test loss - 0.01194491546939237\n",
            "Finished training of epoch - 20 with train loss - 0.002480658236854739 and test loss - 0.001203708529378826\n",
            "Finished training of epoch - 21 with train loss - 0.003442513252758854 and test loss - 0.01174693042194705\n",
            "Finished training of epoch - 22 with train loss - 0.002623547398229482 and test loss - 0.000814120968535332\n",
            "Finished training of epoch - 23 with train loss - 0.004527722005928367 and test loss - 0.0008582743751435004\n",
            "Finished training of epoch - 24 with train loss - 0.0006511177028322326 and test loss - 0.020426982602652452\n",
            "Finished training of epoch - 25 with train loss - 0.0012396952406169913 and test loss - 0.011238436288778788\n",
            "Finished training of epoch - 26 with train loss - 0.0007200001136750548 and test loss - 0.0002941755177739194\n",
            "Finished training of epoch - 27 with train loss - 1.1061413906384902e-10 and test loss - 0.00029417446437323016\n",
            "Finished training of epoch - 28 with train loss - 1.0613869097396606e-10 and test loss - 0.0002941688547546985\n",
            "Finished training of epoch - 29 with train loss - 0.00019904023057098404 and test loss - 0.0002825006086055737\n",
            "Finished training of epoch - 30 with train loss - 1.4789010542407553e-06 and test loss - 0.0002783192373668957\n",
            "Finished training of epoch - 31 with train loss - 2.4217908331497933e-09 and test loss - 0.0002782987815375377\n",
            "Finished training of epoch - 32 with train loss - 1.375255269322662e-13 and test loss - 0.0002782988840779189\n",
            "Finished training of epoch - 33 with train loss - 1.7564066130852662e-05 and test loss - 0.00030478023335022385\n",
            "Finished training of epoch - 34 with train loss - 6.413147888324491e-05 and test loss - 0.00032179684888208285\n",
            "Finished training of epoch - 35 with train loss - 1.973553332530732e-06 and test loss - 0.0003257022483000056\n",
            "Finished training of epoch - 36 with train loss - 1.7848897781972754e-07 and test loss - 0.0003243473988464778\n",
            "Finished training of epoch - 37 with train loss - 1.3657418542507633e-05 and test loss - 0.0003246529673836698\n",
            "Finished training of epoch - 38 with train loss - 1.189150333226368e-05 and test loss - 0.0005559305187732579\n",
            "Finished training of epoch - 39 with train loss - 8.481533239499005e-06 and test loss - 0.0004053796772718784\n",
            "Finished training of epoch - 40 with train loss - 1.5251438083502802e-05 and test loss - 0.00032456114273983824\n",
            "Finished training of epoch - 41 with train loss - 3.037423770104556e-15 and test loss - 0.00032456114344263517\n",
            "Finished training of epoch - 42 with train loss - 5.831285667041973e-06 and test loss - 0.0003369378847224009\n",
            "Finished training of epoch - 43 with train loss - 8.197920115760896e-06 and test loss - 0.0003242708682029715\n",
            "Finished training of epoch - 44 with train loss - 4.224924268524249e-06 and test loss - 0.00032424821159261487\n",
            "Finished training of epoch - 45 with train loss - 2.0796049338397533e-05 and test loss - 0.0003325113013571638\n",
            "Finished training of epoch - 46 with train loss - 8.368952838479207e-07 and test loss - 0.00032408444266067123\n",
            "Finished training of epoch - 47 with train loss - 2.7897620603064883e-05 and test loss - 0.00032605024503429557\n",
            "Finished training of epoch - 48 with train loss - 1.3806929763194956e-07 and test loss - 0.0003241802548337442\n",
            "Finished training of epoch - 49 with train loss - 1.1339686567523731e-08 and test loss - 0.0003241820649376818\n"
          ]
        },
        {
          "output_type": "display_data",
          "data": {
            "text/plain": [
              "<Figure size 640x480 with 1 Axes>"
            ],
            "image/png": "[encoded data removed]"
          },
          "metadata": {}
        }
      ]
    },
    {
      "cell_type": "markdown",
      "source": [
        "##**Пункт 6 (Описание точности моделей)**"
      ],
      "metadata": {
        "id": "wQaah7n4cM7Z"
      },
      "id": "wQaah7n4cM7Z"
    },
    {
      "cell_type": "code",
      "source": [
        "for model in models:\n",
        "    train_Accuracy = model.getAccuracy(train_dataloader)\n",
        "    test_Accuracy = model.getAccuracy(test_dataloader)\n",
        "    print(f\"Model {model.modelName} - Train Accuracy: {train_Accuracy}, Test Accuracy: {test_Accuracy}\")"
      ],
      "metadata": {
        "colab": {
          "base_uri": "https://localhost:8080/"
        },
        "id": "BrHhOCypcala",
        "outputId": "3e03926a-8bb6-49d1-a848-417ecf7f3804"
      },
      "id": "BrHhOCypcala",
      "execution_count": 11,
      "outputs": [
        {
          "output_type": "stream",
          "name": "stdout",
          "text": [
            "Model Simple - Train Accuracy: 6.992837246319141, Test Accuracy: 6.99223880597015\n",
            "Model 1 hidden layer - Train Accuracy: 7.0, Test Accuracy: 7.0\n",
            "Model 3 hidden layers - Train Accuracy: 7.0, Test Accuracy: 6.997213930348258\n"
          ]
        }
      ]
    },
    {
      "cell_type": "markdown",
      "source": [
        "##**Пункт 7 (Вывод)**"
      ],
      "metadata": {
        "id": "YX88K7spcNgU"
      },
      "id": "YX88K7spcNgU"
    },
    {
      "cell_type": "markdown",
      "source": [
        "Какая модель справилась лучше с поставленной задачей?\n",
        "Сравнивая значения Mean Accuracy для тестовых данных, можно определить, что Model Simple справилась с задачей лучше остальных моделей, поскольку у неё наименьшее значение Accuracy на тестовых данных\n",
        "\n",
        "Имеет ли место переобучение?\n",
        "Переобучение происходит, когда модель показывает значительно лучшие результаты на тренировочных данных по сравнению с тестовыми данными. Это можно определить по разнице между Accuracy на тренировочных и тестовых данных.Наибольшую разницу между тренировочной и тестовой ошибкой показывают модели с одним и тремя скрытыми слоями. Особенно заметно переобучение в модели с тремя скрытыми слоями.\n",
        "\n",
        "Имеет ли место недообучение?\n",
        "Недообучение происходит, когда модель не показывает хороших результатов ни на тренировочных, ни на тестовых данных, что указывает на недостаточную сложность модели или её недостаточное обучение.\n",
        "\n",
        "Model Simple имеет небольшую разницу между тренировочной и тестовой ошибкой, но её Accuracy на тренировочных данных выше, чем у других моделей. Это может указывать на некоторый уровень недообучения, так как её производительность на тренировочных данных хуже.\n",
        "\n",
        "Как можно улучшить метрики моделей?\n",
        "Есть несколько способов улучшить метрики моделей:\n",
        "*   Увеличить количество данных.\n",
        "*   Использование других моделей."
      ],
      "metadata": {
        "id": "kWNjP2QR5qFA"
      },
      "id": "kWNjP2QR5qFA"
    }
  ],
  "metadata": {
    "kernelspec": {
      "display_name": "nn-ml-bachelor-2024-venv",
      "language": "python",
      "name": "nn-ml-bachelor-2024-venv"
    },
    "language_info": {
      "codemirror_mode": {
        "name": "ipython",
        "version": 3
      },
      "file_extension": ".py",
      "mimetype": "text/x-python",
      "name": "python",
      "nbconvert_exporter": "python",
      "pygments_lexer": "ipython3",
      "version": "3.9.6"
    },
    "colab": {
      "provenance": []
    }
  },
  "nbformat": 4,
  "nbformat_minor": 5
}