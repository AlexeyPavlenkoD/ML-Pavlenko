{
  "cells": [
    {
      "cell_type": "markdown",
      "id": "bc9520d2",
      "metadata": {
        "id": "bc9520d2"
      },
      "source": [
        "# Лабораторная работа №3\n",
        "\n",
        "ФИО: **Павленко Алексей**\n",
        "Группа: **Бивт-21-3**\n",
        "\n",
        "Отправлять можно следующими способами:\n",
        "1. Запушить этот ноутбук в GitHub в репозиторий, где у вас лежат ноутбуки с лабами\n",
        "\n",
        "Deadlines:\n",
        "- Занятие №7 в семестре (Занятие №3 очное)\n",
        "\n",
        "Что необходимо сделать:  \n",
        "- Обучить различного рода модели машинного обучения и сравнить их между собой  \n",
        "\n",
        "---\n",
        "## Читайте задание внимательно\n",
        "\n",
        "Исходные данные:\n",
        "1. В [табличке](https://docs.google.com/spreadsheets/d/11600OkqdRzxc-xZmFTuBs099VeAqU_GlE0Bx6bBlIRE/edit?usp=sharing) необходимо узнать название своего датасета\n",
        "2. Скачать нужны вам данные можно в [Google Drive](https://drive.google.com/drive/folders/1Phm-Fq1GL-VX7NS-DCEMRh_Fo1wU7DQ9?usp=sharing)\n",
        "  \n",
        "---\n",
        "Теперь по пунктам, что я от вас жду:  \n",
        "1. Загрузить необходимые данные к себе и считать (read) их в переменную.\n",
        "2. Понять, у вас задача классификации (бинарной или многоклассовой) или регрессии (**если у вас многоклассовая классификация, прочтите P.S.S. внизу**).\n",
        "3. Сделать предобработку данных:  \n",
        "     1. Разделить выборку на тренировочную (train) и тестовую (test). _Обратите внимание, что обучать скейлеры и определять, какими значениями вы будете заполнять пропуски, вы будете на train выборке, а применять и на train, и на test_.\n",
        "     2. Проверить пропуски в данных. Если они есть, заполнить одной из стратегий, предложенных в ноутбуке для семинара №3. P.S. Для численных и категориальных переменных будут разные стратегии.\n",
        "     3. Отнормировать численные переменные (`StandardScaler`, `MinMaxScaler`).\n",
        "     4. Закодировать категориальные признаки по одной из стратегий.\n",
        "4. Обучить на тренировочном множестве:\n",
        "     1. Линейную модель (`LogisticRegression`, `LinearRegression`)\n",
        "     2. Деревянную модель (`DecisionTreeClassifier`, `DecisionTreeRegressor`) (тут советую попробовать разные глубины деревьев)\n",
        "     3. K-ближайших соседей (`KNeighborsClassifier`, `KNeighborsRegressor`) (тут тоже есть смысл попробовать разные `k`)\n",
        "     4. Случайный лес (`RandomForestClassifier`, `RandomForestRegressor`)\n",
        "5. Посчитайте метрики на train и test множествах:\n",
        "     1. Для задачи классификации -- Accuracy, ROC-AUC (график + значение), PR-кривую (график), F1-score\n",
        "     2. Для задачи регрессии -- MAE, RMSE, MAPE\n",
        "6. Сравните метрики относительно train/test, так и относительно разных моделей. Ответьте на следующие вопросы:\n",
        "     1. Какая модель справилась лучше с поставленной задачей?\n",
        "     2. Имеет ли место переобучение?\n",
        "     3. Имеет ли место недообучение?\n",
        "     4. Как можно улучшить метрики моделей?\n",
        "\n",
        "---\n",
        "P.S.  \n",
        "Просьба -- делать каждое задание в отдельных ячейках и с отдельными заголовками (как пункт 1 и 2 в этом ноутбуке) типа  \n",
        "- Заголовок\n",
        "- Ячейки с кодом\n",
        "- Другой заголовок\n",
        "- Другие ячейки с кодом\n",
        "\n",
        "P.S.S.  \n",
        "Если вам повезло с многоклассовой классификацией, вам будет необходимо понять, умеет ли алгоритм работать с несколькими классами одновременно (обычно они не умеют). Поэтому вам может понадобиться такая штука, как OneVsRestClassifier ([ссылка](https://scikit-learn.org/stable/modules/generated/sklearn.multiclass.OneVsRestClassifier.html#sklearn.multiclass.OneVsRestClassifier)), но советую ознакомиться с этой [страницей](https://scikit-learn.org/stable/modules/multiclass.html), здесь представлена более полная информация."
      ]
    },
    {
      "cell_type": "markdown",
      "id": "28b51062",
      "metadata": {
        "id": "28b51062"
      },
      "source": [
        "##**Пункт 1 ( Импорт библиотек. Пример импорта данных)**"
      ]
    },
    {
      "cell_type": "code",
      "execution_count": null,
      "id": "406597a7",
      "metadata": {
        "colab": {
          "base_uri": "https://localhost:8080/"
        },
        "id": "406597a7",
        "outputId": "d39fbdee-eb2b-4826-a00f-5ad4169a3179"
      },
      "outputs": [
        {
          "output_type": "stream",
          "name": "stdout",
          "text": [
            "   Applicant_ID Applicant_Gender  Owned_Car  Owned_Realty  Total_Children  \\\n",
            "0       5008806          M                1             1               0   \n",
            "1       5008808          F                0             1               0   \n",
            "2       5008809          F                0             1               0   \n",
            "3       5008810          F                0             1               0   \n",
            "4       5008811          F                0             1               0   \n",
            "\n",
            "   Total_Income                                        Income_Type  \\\n",
            "0        112500  Working                                       ...   \n",
            "1        270000  Commercial associate                          ...   \n",
            "2        270000  Commercial associate                          ...   \n",
            "3        270000  Commercial associate                          ...   \n",
            "4        270000  Commercial associate                          ...   \n",
            "\n",
            "                                      Education_Type  \\\n",
            "0  Secondary / secondary special                 ...   \n",
            "1  Secondary / secondary special                 ...   \n",
            "2  Secondary / secondary special                 ...   \n",
            "3  Secondary / secondary special                 ...   \n",
            "4  Secondary / secondary special                 ...   \n",
            "\n",
            "                                       Family_Status  \\\n",
            "0  Married                                       ...   \n",
            "1  Single / not married                          ...   \n",
            "2  Single / not married                          ...   \n",
            "3  Single / not married                          ...   \n",
            "4  Single / not married                          ...   \n",
            "\n",
            "                                        Housing_Type  ...  Owned_Work_Phone  \\\n",
            "0  House / apartment                             ...  ...                 0   \n",
            "1  House / apartment                             ...  ...                 0   \n",
            "2  House / apartment                             ...  ...                 0   \n",
            "3  House / apartment                             ...  ...                 0   \n",
            "4  House / apartment                             ...  ...                 0   \n",
            "\n",
            "   Owned_Phone  Owned_Email  \\\n",
            "0            0            0   \n",
            "1            1            1   \n",
            "2            1            1   \n",
            "3            1            1   \n",
            "4            1            1   \n",
            "\n",
            "                                           Job_Title Total_Family_Members  \\\n",
            "0  Security staff                                ...                    2   \n",
            "1  Sales staff                                   ...                    1   \n",
            "2  Sales staff                                   ...                    1   \n",
            "3  Sales staff                                   ...                    1   \n",
            "4  Sales staff                                   ...                    1   \n",
            "\n",
            "   Applicant_Age  Years_of_Working  Total_Bad_Debt  Total_Good_Debt  Status  \n",
            "0             59                 4               0               30       1  \n",
            "1             53                 9               0                5       1  \n",
            "2             53                 9               0                5       1  \n",
            "3             53                 9               0               27       1  \n",
            "4             53                 9               0               39       1  \n",
            "\n",
            "[5 rows x 21 columns]\n"
          ]
        }
      ],
      "source": [
        "# data = pd.read_csv(path_to_dataset, sep='\\t')  # если нужно, можно поменять разделитель\n",
        "#  numpy уже импортирован в colab\n",
        "import numpy as np\n",
        "import math\n",
        "import matplotlib.pyplot as plt\n",
        "from sklearn.metrics import accuracy_score, roc_auc_score, average_precision_score, f1_score, roc_curve, precision_recall_curve\n",
        "from math import sqrt\n",
        "import os\n",
        "import pandas as pd\n",
        "#from google.colab import files\n",
        "#uploaded = files.upload()\n",
        "from scipy import stats\n",
        "import seaborn as sns\n",
        "from sklearn.compose import ColumnTransformer\n",
        "from sklearn.preprocessing import StandardScaler, OneHotEncoder\n",
        "from sklearn.linear_model import LogisticRegression, LinearRegression\n",
        "from sklearn.tree import DecisionTreeClassifier, DecisionTreeRegressor\n",
        "from sklearn.neighbors import KNeighborsClassifier, KNeighborsRegressor\n",
        "from sklearn.ensemble import RandomForestClassifier, RandomForestRegressor\n",
        "data = pd.read_csv('Application_Data.csv', sep=',')\n",
        "print(data.head())\n"
      ]
    },
    {
      "cell_type": "markdown",
      "id": "0d119028",
      "metadata": {
        "id": "0d119028"
      },
      "source": [
        "##**Описание постановки задачи**"
      ]
    },
    {
      "cell_type": "markdown",
      "source": [
        "Цель:\n",
        "Целью данной лабораторной работы является изучение и применение основных методов предобработки данных, обучения моделей машинного обучения и оценки их производительности.\n",
        "\n",
        "Тип задачи:\n",
        "Данная задача бинарной классификации включает предсказание результатов, которые имеют два возможных исхода. Примером служит определение того, будет ли кредитная карта одобрена или нет, основываясь на финансовой истории и других данных заявителей."
      ],
      "metadata": {
        "id": "iDRHT3K5-tMU"
      },
      "id": "iDRHT3K5-tMU"
    },
    {
      "cell_type": "markdown",
      "id": "34931f43",
      "metadata": {
        "id": "34931f43"
      },
      "source": [
        "##**Пункт 3 (Разделение данных)**"
      ]
    },
    {
      "cell_type": "code",
      "execution_count": null,
      "id": "67a611d0",
      "metadata": {
        "colab": {
          "base_uri": "https://localhost:8080/"
        },
        "id": "67a611d0",
        "outputId": "c95d9ea9-71fd-4f69-f360-23a2b0223f86"
      },
      "outputs": [
        {
          "output_type": "stream",
          "name": "stdout",
          "text": [
            "Applicant_ID            0\n",
            "Applicant_Gender        0\n",
            "Owned_Car               0\n",
            "Owned_Realty            0\n",
            "Total_Children          0\n",
            "Total_Income            0\n",
            "Income_Type             0\n",
            "Education_Type          0\n",
            "Family_Status           0\n",
            "Housing_Type            0\n",
            "Owned_Mobile_Phone      0\n",
            "Owned_Work_Phone        0\n",
            "Owned_Phone             0\n",
            "Owned_Email             0\n",
            "Job_Title               0\n",
            "Total_Family_Members    0\n",
            "Applicant_Age           0\n",
            "Years_of_Working        0\n",
            "Total_Bad_Debt          0\n",
            "Total_Good_Debt         0\n",
            "Status                  0\n",
            "dtype: int64\n",
            "Applicant_ID            0\n",
            "Applicant_Gender        0\n",
            "Owned_Car               0\n",
            "Owned_Realty            0\n",
            "Total_Children          0\n",
            "Total_Income            0\n",
            "Income_Type             0\n",
            "Education_Type          0\n",
            "Family_Status           0\n",
            "Housing_Type            0\n",
            "Owned_Mobile_Phone      0\n",
            "Owned_Work_Phone        0\n",
            "Owned_Phone             0\n",
            "Owned_Email             0\n",
            "Job_Title               0\n",
            "Total_Family_Members    0\n",
            "Applicant_Age           0\n",
            "Years_of_Working        0\n",
            "Total_Bad_Debt          0\n",
            "Total_Good_Debt         0\n",
            "Status                  0\n",
            "dtype: int64\n",
            "Нет пропусков данных\n"
          ]
        }
      ],
      "source": [
        "# Разделение данных на тренировочную и тестовую выборки\n",
        "# Существует также верное разбиение на соотношение 70% к 30%\n",
        "\n",
        "train = data[int(len(data)*0.8):]  # 80%\n",
        "test = data[:int(len(data)*0.2)] # 20%\n",
        "# Проверка пропусков в данных\n",
        "print(train.isnull().sum())\n",
        "train_missing_values = train.isnull().sum()\n",
        "print(train_missing_values)\n",
        "\n",
        "# Проверяем, есть ли хоть один пропуск в данных\n",
        "if train_missing_values.sum() == 0:\n",
        "    print(\"Нет пропусков данных\")\n",
        "else:\n",
        "    print(\"Есть пропуски данных\")"
      ]
    },
    {
      "cell_type": "code",
      "source": [
        "# Определение численных и категориальных столбцов\n",
        "num_cols = ['Owned_Car', 'Owned_Realty','Total_Children','Total_Income','Owned_Mobile_Phone','Owned_Work_Phone','Owned_Phone','Owned_Email','Total_Family_Members','Applicant_Age','Years_of_Working','Total_Bad_Debt','Total_Good_Debt','Status']\n",
        "cat_cols = ['Applicant_Gender', 'Income_Type', 'Education_Type', 'Family_Status', 'Housing_Type','Job_Title']\n",
        "\n",
        "# Создание преобразователя колонок\n",
        "preprocessor = ColumnTransformer(transformers=[('cat', OneHotEncoder(handle_unknown='ignore'), cat_cols),('num', StandardScaler(), num_cols)]) #Student ignore\n",
        "\n",
        "# Применение преобразований к тренировочным и тестовым данным\n",
        "train_preprocessed = preprocessor.fit_transform(train)\n",
        "test_preprocessed = preprocessor.transform(test)\n",
        "\n",
        "print(\"Данные до преобразования:\")\n",
        "print(train.head())\n",
        "\n",
        "# Преобразование в DataFrame (это не обязательно, но может быть полезно для дальнейшего анализа)\n",
        "train_preprocessed_df = pd.DataFrame(train_preprocessed)\n",
        "test_preprocessed_df = pd.DataFrame(test_preprocessed)\n",
        "\n",
        "# Вывод преобразованных данных\n",
        "print(\"\\nРазделение по группам:\")\n",
        "print(preprocessor.get_feature_names_out(), \"\\n\\n\")\n",
        "print(\"\\nПреобразованные данные:\")\n",
        "print(train_preprocessed_df.head())\n"
      ],
      "metadata": {
        "colab": {
          "base_uri": "https://localhost:8080/"
        },
        "id": "zA579P7xFeIa",
        "outputId": "1db919d7-ae89-4579-cb20-583f76810371"
      },
      "id": "zA579P7xFeIa",
      "execution_count": null,
      "outputs": [
        {
          "output_type": "stream",
          "name": "stdout",
          "text": [
            "Данные до преобразования:\n",
            "       Applicant_ID Applicant_Gender  Owned_Car  Owned_Realty  Total_Children  \\\n",
            "20102       5117824          M                1             0               0   \n",
            "20103       5117832          M                1             0               0   \n",
            "20104       5117834          M                1             0               0   \n",
            "20105       5117835          M                1             0               0   \n",
            "20106       5117836          M                1             0               0   \n",
            "\n",
            "       Total_Income                                        Income_Type  \\\n",
            "20102        274500  Commercial associate                          ...   \n",
            "20103        157500  Working                                       ...   \n",
            "20104        157500  Working                                       ...   \n",
            "20105        157500  Working                                       ...   \n",
            "20106        157500  Working                                       ...   \n",
            "\n",
            "                                          Education_Type  \\\n",
            "20102  Secondary / secondary special                 ...   \n",
            "20103  Secondary / secondary special                 ...   \n",
            "20104  Secondary / secondary special                 ...   \n",
            "20105  Secondary / secondary special                 ...   \n",
            "20106  Secondary / secondary special                 ...   \n",
            "\n",
            "                                           Family_Status  \\\n",
            "20102  Married                                       ...   \n",
            "20103  Married                                       ...   \n",
            "20104  Married                                       ...   \n",
            "20105  Married                                       ...   \n",
            "20106  Married                                       ...   \n",
            "\n",
            "                                            Housing_Type  ...  \\\n",
            "20102  House / apartment                             ...  ...   \n",
            "20103  House / apartment                             ...  ...   \n",
            "20104  House / apartment                             ...  ...   \n",
            "20105  House / apartment                             ...  ...   \n",
            "20106  House / apartment                             ...  ...   \n",
            "\n",
            "       Owned_Work_Phone  Owned_Phone  Owned_Email  \\\n",
            "20102                 0            0            0   \n",
            "20103                 0            0            0   \n",
            "20104                 0            0            0   \n",
            "20105                 0            0            0   \n",
            "20106                 0            0            0   \n",
            "\n",
            "                                               Job_Title Total_Family_Members  \\\n",
            "20102  Laborers                                      ...                    2   \n",
            "20103  Managers                                      ...                    2   \n",
            "20104  Managers                                      ...                    2   \n",
            "20105  Managers                                      ...                    2   \n",
            "20106  Managers                                      ...                    2   \n",
            "\n",
            "       Applicant_Age  Years_of_Working  Total_Bad_Debt  Total_Good_Debt  \\\n",
            "20102             48                10               0                9   \n",
            "20103             55                 6               0                9   \n",
            "20104             55                 6               0                9   \n",
            "20105             55                 6               0                9   \n",
            "20106             55                 6               0                9   \n",
            "\n",
            "       Status  \n",
            "20102       1  \n",
            "20103       1  \n",
            "20104       1  \n",
            "20105       1  \n",
            "20106       1  \n",
            "\n",
            "[5 rows x 21 columns]\n",
            "\n",
            "Разделение по группам:\n",
            "['cat__Applicant_Gender_F      ' 'cat__Applicant_Gender_M      '\n",
            " 'cat__Income_Type_Commercial associate                              '\n",
            " 'cat__Income_Type_Pensioner                                         '\n",
            " 'cat__Income_Type_State servant                                     '\n",
            " 'cat__Income_Type_Working                                           '\n",
            " 'cat__Education_Type_Higher education                                  '\n",
            " 'cat__Education_Type_Incomplete higher                                 '\n",
            " 'cat__Education_Type_Lower secondary                                   '\n",
            " 'cat__Education_Type_Secondary / secondary special                     '\n",
            " 'cat__Family_Status_Civil marriage                                    '\n",
            " 'cat__Family_Status_Married                                           '\n",
            " 'cat__Family_Status_Separated                                         '\n",
            " 'cat__Family_Status_Single / not married                              '\n",
            " 'cat__Family_Status_Widow                                             '\n",
            " 'cat__Housing_Type_Co-op apartment                                   '\n",
            " 'cat__Housing_Type_House / apartment                                 '\n",
            " 'cat__Housing_Type_Municipal apartment                               '\n",
            " 'cat__Housing_Type_Office apartment                                  '\n",
            " 'cat__Housing_Type_Rented apartment                                  '\n",
            " 'cat__Housing_Type_With parents                                      '\n",
            " 'cat__Job_Title_Accountants                                       '\n",
            " 'cat__Job_Title_Cleaning staff                                    '\n",
            " 'cat__Job_Title_Cooking staff                                     '\n",
            " 'cat__Job_Title_Core staff                                        '\n",
            " 'cat__Job_Title_Drivers                                           '\n",
            " 'cat__Job_Title_HR staff                                          '\n",
            " 'cat__Job_Title_High skill tech staff                             '\n",
            " 'cat__Job_Title_IT staff                                          '\n",
            " 'cat__Job_Title_Laborers                                          '\n",
            " 'cat__Job_Title_Low-skill Laborers                                '\n",
            " 'cat__Job_Title_Managers                                          '\n",
            " 'cat__Job_Title_Medicine staff                                    '\n",
            " 'cat__Job_Title_Private service staff                             '\n",
            " 'cat__Job_Title_Realty agents                                     '\n",
            " 'cat__Job_Title_Sales staff                                       '\n",
            " 'cat__Job_Title_Secretaries                                       '\n",
            " 'cat__Job_Title_Security staff                                    '\n",
            " 'cat__Job_Title_Waiters/barmen staff                              '\n",
            " 'num__Owned_Car' 'num__Owned_Realty' 'num__Total_Children'\n",
            " 'num__Total_Income' 'num__Owned_Mobile_Phone' 'num__Owned_Work_Phone'\n",
            " 'num__Owned_Phone' 'num__Owned_Email' 'num__Total_Family_Members'\n",
            " 'num__Applicant_Age' 'num__Years_of_Working' 'num__Total_Bad_Debt'\n",
            " 'num__Total_Good_Debt' 'num__Status'] \n",
            "\n",
            "\n",
            "\n",
            "Преобразованные данные:\n",
            "    0    1    2    3    4    5    6    7    8    9   ...   43        44  \\\n",
            "0  0.0  1.0  1.0  0.0  0.0  0.0  0.0  0.0  0.0  1.0  ...  0.0 -0.694376   \n",
            "1  0.0  1.0  0.0  0.0  0.0  1.0  0.0  0.0  0.0  1.0  ...  0.0 -0.694376   \n",
            "2  0.0  1.0  0.0  0.0  0.0  1.0  0.0  0.0  0.0  1.0  ...  0.0 -0.694376   \n",
            "3  0.0  1.0  0.0  0.0  0.0  1.0  0.0  0.0  0.0  1.0  ...  0.0 -0.694376   \n",
            "4  0.0  1.0  0.0  0.0  0.0  1.0  0.0  0.0  0.0  1.0  ...  0.0 -0.694376   \n",
            "\n",
            "         45      46        47        48        49        50        51  \\\n",
            "0 -0.667769 -0.2612 -0.332805  0.820441  0.423346 -0.207172 -0.844177   \n",
            "1 -0.667769 -0.2612 -0.332805  1.563458 -0.236162 -0.207172 -0.844177   \n",
            "2 -0.667769 -0.2612 -0.332805  1.563458 -0.236162 -0.207172 -0.844177   \n",
            "3 -0.667769 -0.2612 -0.332805  1.563458 -0.236162 -0.207172 -0.844177   \n",
            "4 -0.667769 -0.2612 -0.332805  1.563458 -0.236162 -0.207172 -0.844177   \n",
            "\n",
            "         52  \n",
            "0  0.084938  \n",
            "1  0.084938  \n",
            "2  0.084938  \n",
            "3  0.084938  \n",
            "4  0.084938  \n",
            "\n",
            "[5 rows x 53 columns]\n"
          ]
        }
      ]
    },
    {
      "cell_type": "markdown",
      "source": [
        "##**Пункт 4 (Обучение на тренировочном множестве данных)**"
      ],
      "metadata": {
        "id": "dsuJdsLgxSWD"
      },
      "id": "dsuJdsLgxSWD"
    },
    {
      "cell_type": "code",
      "source": [
        "x = np.delete(train_preprocessed, len(num_cols) - 1, axis=1) # все столбцы, кроме ключевой фунции y\n",
        "y = train_preprocessed[:, len(num_cols) - 1] # только ключевая функция y\n",
        "\n",
        "# Линейные модели\n",
        "linear_model = LogisticRegression()\n",
        "linear_model.fit(x, y)\n",
        "print(\"LinearRegression - Выполнено\")\n",
        "\n",
        "# Деревянные модели\n",
        "tree_regressor = DecisionTreeClassifier(max_depth=2)\n",
        "tree_regressor.fit(x, y)\n",
        "print(\"DecisionTreeRegressor - Выполнено\")\n",
        "\n",
        "# K-ближайших соседей\n",
        "knn_regressor = KNeighborsClassifier(n_neighbors=2)\n",
        "knn_regressor.fit(x, y)\n",
        "print(\"KNeighborsRegressor - Выполнено\")\n",
        "\n",
        "# Случайный лес\n",
        "random_forest_regressor = RandomForestClassifier(n_estimators=10)\n",
        "random_forest_regressor.fit(x, y)\n",
        "print(\"RandomForestRegressor - Выполнено\")"
      ],
      "metadata": {
        "colab": {
          "base_uri": "https://localhost:8080/"
        },
        "id": "Mwxyqj-ExbST",
        "outputId": "22c11bb2-8609-4460-a3ec-bf864f0ac71a"
      },
      "id": "Mwxyqj-ExbST",
      "execution_count": null,
      "outputs": [
        {
          "output_type": "stream",
          "name": "stdout",
          "text": [
            "LinearRegression - Выполнено\n",
            "DecisionTreeRegressor - Выполнено\n",
            "KNeighborsRegressor - Выполнено\n",
            "RandomForestRegressor - Выполнено\n"
          ]
        }
      ]
    },
    {
      "cell_type": "markdown",
      "source": [
        "##**Пункт 5 (Подсчет метрик)**"
      ],
      "metadata": {
        "id": "4oalMVmbxbfo"
      },
      "id": "4oalMVmbxbfo"
    },
    {
      "cell_type": "code",
      "source": [
        "x_test = np.delete(test_preprocessed, len(num_cols) - 1, axis=1) # все столбцы, кроме test preparation course\n",
        "y_test = test_preprocessed[:, len(num_cols) - 1] # только test preparation course\n",
        "\n",
        "# Предсказания моделей\n",
        "y_pred_linear = linear_model.predict(x)\n",
        "y_pred_tree = tree_regressor.predict(x)\n",
        "y_pred_knn = knn_regressor.predict(x)\n",
        "y_pred_rf = random_forest_regressor.predict(x)\n",
        "\n",
        "y_pred_linear_test = linear_model.predict(x_test)\n",
        "y_pred_tree_test = tree_regressor.predict(x_test)\n",
        "y_pred_knn_test = knn_regressor.predict(x_test)\n",
        "y_pred_rf_test = random_forest_regressor.predict(x_test)\n",
        "\n",
        "# y - истинные метки классов\n",
        "# y_pred - предсказанные метки классов\n",
        "# y_pred - вероятности классов (для ROC и PR кривых)\n",
        "models = {'LinearRegression': y_pred_linear, 'DecisionTreeRegressor': y_pred_tree, 'KNeighborsRegressor': y_pred_knn, 'RandomForestRegressor': y_pred_rf}\n",
        "metrics_train = {}\n",
        "for model_name, y_pred in models.items():\n",
        "  # Accuracy\n",
        "  print(model_name)\n",
        "  accuracy = accuracy_score(y, y_pred)\n",
        "  print(f'Accuracy: {accuracy}')\n",
        "\n",
        "  # F1-score\n",
        "  f1 = f1_score(y, y_pred)\n",
        "  print(f'F1-score: {f1}')\n",
        "\n",
        "  # ROC-AUC\n",
        "  roc_auc = roc_auc_score(y, y_pred)\n",
        "  print(f'ROC-AUC: {roc_auc}')\n",
        "\n",
        "  # PR-AUC\n",
        "  pr_auc = average_precision_score(y, y_pred)\n",
        "  print(f'PR-AUC: {pr_auc}')\n",
        "\n",
        "  # ROC curve\n",
        "  fpr, tpr, thresholds = roc_curve(y, y_pred)\n",
        "  #plt.figure()\n",
        "  #plt.plot(fpr, tpr, label=f'ROC curve (area = {roc_auc})')\n",
        "  #plt.plot([0, 1], [0, 1], 'k--') # Dashed diagonal\n",
        "  #plt.xlabel('False Positive Rate')\n",
        "  #plt.ylabel('True Positive Rate')\n",
        "  #plt.title('ROC Curve')\n",
        "  #plt.legend(loc='lower right')\n",
        "  #plt.show()\n",
        "\n",
        "  # Precision-Recall curve\n",
        "  #precision, recall, _ = precision_recall_curve(y, y_pred)\n",
        "  #plt.figure()\n",
        "  #plt.plot(recall, precision, label=f'PR curve (area = {pr_auc})')\n",
        "  #plt.xlabel('Recall')\n",
        "  #plt.ylabel('Precision')\n",
        "  #plt.title('Precision-Recall Curve')\n",
        "  #plt.legend(loc='lower left')\n",
        "  #plt.show()"
      ],
      "metadata": {
        "colab": {
          "base_uri": "https://localhost:8080/"
        },
        "id": "GubFF-GjxeBz",
        "outputId": "8873cc92-5168-4ea9-a71f-183af61bd2b3"
      },
      "id": "GubFF-GjxeBz",
      "execution_count": null,
      "outputs": [
        {
          "output_type": "stream",
          "name": "stdout",
          "text": [
            "LinearRegression\n",
            "Accuracy: 0.9994031038599284\n",
            "F1-score: 0.998060762766645\n",
            "ROC-AUC: 0.9985904186143746\n",
            "PR-AUC: 0.9965236331645191\n",
            "DecisionTreeRegressor\n",
            "Accuracy: 0.952049343414246\n",
            "F1-score: 0.8301620859760396\n",
            "ROC-AUC: 0.8739058196659545\n",
            "PR-AUC: 0.7317207600381069\n",
            "KNeighborsRegressor\n",
            "Accuracy: 0.9940310385992838\n",
            "F1-score: 0.9802371541501977\n",
            "ROC-AUC: 0.9806201550387597\n",
            "PR-AUC: 0.9672092714782357\n",
            "RandomForestRegressor\n",
            "Accuracy: 0.9998010346199762\n",
            "F1-score: 0.9993535875888817\n",
            "ROC-AUC: 0.9993540051679586\n",
            "PR-AUC: 0.9989069757159411\n"
          ]
        }
      ]
    },
    {
      "cell_type": "code",
      "source": [
        "models = {'LinearRegression': y_pred_linear_test, 'DecisionTreeRegressor': y_pred_tree_test, 'KNeighborsRegressor': y_pred_knn_test, 'RandomForestRegressor': y_pred_rf_test}\n",
        "metrics_train = {}\n",
        "for model_name, y_pred in models.items():\n",
        "  # Accuracy\n",
        "  print(model_name)\n",
        "  accuracy = accuracy_score(y_test, y_pred)\n",
        "  print(f'Accuracy: {accuracy}')\n",
        "\n",
        "  # F1-score\n",
        "  f1 = f1_score(y_test, y_pred)\n",
        "  print(f'F1-score: {f1}')\n",
        "\n",
        "  # ROC-AUC\n",
        "  roc_auc = roc_auc_score(y_test, y_pred)\n",
        "  print(f'ROC-AUC: {roc_auc}')\n",
        "\n",
        "  # PR-AUC\n",
        "  pr_auc = average_precision_score(y_test, y_pred)\n",
        "  print(f'PR-AUC: {pr_auc}')\n",
        "\n",
        "  # ROC curve\n",
        "  fpr, tpr, thresholds = roc_curve(y_test, y_pred)\n",
        "  #plt.figure()\n",
        "  #plt.plot(fpr, tpr, label=f'ROC curve (area = {roc_auc})')\n",
        "  #plt.plot([0, 1], [0, 1], 'k--') # Dashed diagonal\n",
        "  #plt.xlabel('False Positive Rate')\n",
        "  #plt.ylabel('True Positive Rate')\n",
        "  #plt.title('ROC Curve')\n",
        "  #plt.legend(loc='lower right')\n",
        "  #plt.show()\n",
        "\n",
        "  # Precision-Recall curve\n",
        "  #precision, recall, _ = precision_recall_curve(y_test, y_pred)\n",
        "  #plt.figure()\n",
        "  #plt.plot(recall, precision, label=f'PR curve (area = {pr_auc})')\n",
        "  #plt.xlabel('Recall')\n",
        "  #plt.ylabel('Precision')\n",
        "  #plt.title('Precision-Recall Curve')\n",
        "  #plt.legend(loc='lower left')\n",
        "  #plt.show()"
      ],
      "metadata": {
        "colab": {
          "base_uri": "https://localhost:8080/"
        },
        "id": "PCWgOICvZbHC",
        "outputId": "1606fcc7-6b1c-435f-e998-8988bcf81f50"
      },
      "id": "PCWgOICvZbHC",
      "execution_count": null,
      "outputs": [
        {
          "output_type": "stream",
          "name": "stdout",
          "text": [
            "LinearRegression\n",
            "Accuracy: 0.9992039800995025\n",
            "F1-score: 0.9967585089141004\n",
            "ROC-AUC: 0.9974593596683123\n",
            "PR-AUC: 0.9941271498390032\n",
            "DecisionTreeRegressor\n",
            "Accuracy: 0.964776119402985\n",
            "F1-score: 0.8545603944124898\n",
            "ROC-AUC: 0.9117489607222402\n",
            "PR-AUC: 0.7499539951989731\n",
            "KNeighborsRegressor\n",
            "Accuracy: 0.8859701492537313\n",
            "F1-score: 0.5004359197907584\n",
            "ROC-AUC: 0.7047443277574732\n",
            "PR-AUC: 0.31782371202332527\n",
            "RandomForestRegressor\n",
            "Accuracy: 0.9793034825870647\n",
            "F1-score: 0.9097222222222221\n",
            "ROC-AUC: 0.9228136614080423\n",
            "PR-AUC: 0.8507246973018259\n"
          ]
        }
      ]
    },
    {
      "cell_type": "markdown",
      "source": [
        "##**Пункт 6 (Вывод о сравнении метрик)**"
      ],
      "metadata": {
        "id": "b21iNnDRxeQW"
      },
      "id": "b21iNnDRxeQW"
    },
    {
      "cell_type": "markdown",
      "source": [
        "При сравнении показателей машинного обучения, наглядно видно, что линейная регрессия (LinearRegression) наиболее точно отображает совпадения в результатах.\n",
        "Использование других моделей при обучении, способствует улучшению нахождения целевой функции и закономерностей."
      ],
      "metadata": {
        "id": "OOsTeXS46VzV"
      },
      "id": "OOsTeXS46VzV"
    }
  ],
  "metadata": {
    "kernelspec": {
      "display_name": "nn-ml-bachelor-2024-venv",
      "language": "python",
      "name": "nn-ml-bachelor-2024-venv"
    },
    "language_info": {
      "codemirror_mode": {
        "name": "ipython",
        "version": 3
      },
      "file_extension": ".py",
      "mimetype": "text/x-python",
      "name": "python",
      "nbconvert_exporter": "python",
      "pygments_lexer": "ipython3",
      "version": "3.9.6"
    },
    "colab": {
      "provenance": []
    }
  },
  "nbformat": 4,
  "nbformat_minor": 5
}
